{
  "nbformat": 4,
  "nbformat_minor": 0,
  "metadata": {
    "colab": {
      "provenance": [],
      "gpuType": "T4"
    },
    "kernelspec": {
      "name": "python3",
      "display_name": "Python 3"
    },
    "language_info": {
      "name": "python"
    },
    "accelerator": "GPU"
  },
  "cells": [
    {
      "cell_type": "markdown",
      "source": [
        "#Pneumonia Detection using CNN"
      ],
      "metadata": {
        "id": "3RRcfAq0VOay"
      }
    },
    {
      "cell_type": "markdown",
      "source": [
        "##Import the libraries"
      ],
      "metadata": {
        "id": "2f2D3GdwVSxc"
      }
    },
    {
      "cell_type": "code",
      "execution_count": 1,
      "metadata": {
        "id": "ITCwdDq6VN0L"
      },
      "outputs": [],
      "source": [
        "import numpy as np\n",
        "import seaborn as sns\n",
        "import tensorflow as tf\n",
        "import pandas as pd"
      ]
    },
    {
      "cell_type": "markdown",
      "source": [
        "##Load the dataset"
      ],
      "metadata": {
        "id": "59dv-YInVeei"
      }
    },
    {
      "cell_type": "markdown",
      "source": [
        "##Preprocessing the images\n"
      ],
      "metadata": {
        "id": "6ECOupBCaiG5"
      }
    },
    {
      "cell_type": "code",
      "source": [
        "from tensorflow.keras.preprocessing.image import ImageDataGenerator"
      ],
      "metadata": {
        "id": "Rz-H8wd_arVX"
      },
      "execution_count": 2,
      "outputs": []
    },
    {
      "cell_type": "code",
      "source": [
        "train_datagen = ImageDataGenerator(rescale = 1./255,\n",
        "                                   shear_range = 0.2,\n",
        "                                   zoom_range = 0.2,\n",
        "                                   horizontal_flip = True)\n",
        "training_set = train_datagen.flow_from_directory('/content/drive/MyDrive/Colab Notebooks/chest_xray/train',\n",
        "                                                 target_size = (64, 64),\n",
        "                                                 batch_size = 32,\n",
        "                                                 class_mode = 'binary')"
      ],
      "metadata": {
        "id": "9_QWu23EayYu",
        "colab": {
          "base_uri": "https://localhost:8080/"
        },
        "outputId": "b377bf06-0bf9-49a3-8d88-7c87ebcd5858"
      },
      "execution_count": 3,
      "outputs": [
        {
          "output_type": "stream",
          "name": "stdout",
          "text": [
            "Found 5238 images belonging to 2 classes.\n"
          ]
        }
      ]
    },
    {
      "cell_type": "code",
      "source": [
        "test_datagen = ImageDataGenerator(rescale = 1./255)\n",
        "test_set = test_datagen.flow_from_directory('/content/drive/MyDrive/Colab Notebooks/chest_xray/test',\n",
        "                                            target_size = (64, 64),\n",
        "                                            batch_size = 32,\n",
        "                                            class_mode = 'binary')"
      ],
      "metadata": {
        "id": "zDeB0iaHaz3b",
        "colab": {
          "base_uri": "https://localhost:8080/"
        },
        "outputId": "d3853423-d2eb-4e08-80b9-8674c0c1f55d"
      },
      "execution_count": 4,
      "outputs": [
        {
          "output_type": "stream",
          "name": "stdout",
          "text": [
            "Found 624 images belonging to 2 classes.\n"
          ]
        }
      ]
    },
    {
      "cell_type": "markdown",
      "source": [
        "##Building the CNN"
      ],
      "metadata": {
        "id": "XLFgvb4Pa_U7"
      }
    },
    {
      "cell_type": "markdown",
      "source": [
        "###Initializing the CNN"
      ],
      "metadata": {
        "id": "Br12mKVbbEET"
      }
    },
    {
      "cell_type": "code",
      "source": [
        "cnn = tf.keras.models.Sequential()"
      ],
      "metadata": {
        "id": "ClASzkMcbBHQ"
      },
      "execution_count": 5,
      "outputs": []
    },
    {
      "cell_type": "markdown",
      "source": [
        "###Convolution operation"
      ],
      "metadata": {
        "id": "xOevBgncbERK"
      }
    },
    {
      "cell_type": "code",
      "source": [
        "cnn.add(tf.keras.layers.Conv2D(filters=32, kernel_size=3, activation='relu', input_shape=[64, 64, 3]))"
      ],
      "metadata": {
        "id": "7jAOw3c7bElM",
        "colab": {
          "base_uri": "https://localhost:8080/"
        },
        "outputId": "2b663480-be8b-4801-b046-de885e913d81"
      },
      "execution_count": 6,
      "outputs": [
        {
          "output_type": "stream",
          "name": "stderr",
          "text": [
            "/usr/local/lib/python3.10/dist-packages/keras/src/layers/convolutional/base_conv.py:107: UserWarning: Do not pass an `input_shape`/`input_dim` argument to a layer. When using Sequential models, prefer using an `Input(shape)` object as the first layer in the model instead.\n",
            "  super().__init__(activity_regularizer=activity_regularizer, **kwargs)\n"
          ]
        }
      ]
    },
    {
      "cell_type": "markdown",
      "source": [
        "###Max Pooling"
      ],
      "metadata": {
        "id": "ShID5oTLbE74"
      }
    },
    {
      "cell_type": "code",
      "source": [
        "cnn.add(tf.keras.layers.MaxPool2D(pool_size=2, strides=2))"
      ],
      "metadata": {
        "id": "SCFQgNx8bFOg"
      },
      "execution_count": 7,
      "outputs": []
    },
    {
      "cell_type": "markdown",
      "source": [
        "###Convolution operation"
      ],
      "metadata": {
        "id": "YsrYWrc-bFiJ"
      }
    },
    {
      "cell_type": "code",
      "source": [
        "cnn.add(tf.keras.layers.Conv2D(filters=32, kernel_size=3, activation='relu'))\n",
        "cnn.add(tf.keras.layers.MaxPool2D(pool_size=2, strides=2))"
      ],
      "metadata": {
        "id": "8DCM8b-obFwM"
      },
      "execution_count": 8,
      "outputs": []
    },
    {
      "cell_type": "markdown",
      "source": [
        "###Flattening"
      ],
      "metadata": {
        "id": "WoP8GkikbN-j"
      }
    },
    {
      "cell_type": "code",
      "source": [
        "cnn.add(tf.keras.layers.Flatten())"
      ],
      "metadata": {
        "id": "5sKyPfk0bOOm"
      },
      "execution_count": 9,
      "outputs": []
    },
    {
      "cell_type": "markdown",
      "source": [
        "###Full Connection"
      ],
      "metadata": {
        "id": "KPp0XTGVbRQ3"
      }
    },
    {
      "cell_type": "code",
      "source": [
        "cnn.add(tf.keras.layers.Dense(units=128, activation='relu'))"
      ],
      "metadata": {
        "id": "RlMX-dN_bRdY"
      },
      "execution_count": 10,
      "outputs": []
    },
    {
      "cell_type": "markdown",
      "source": [
        "###Output Layer"
      ],
      "metadata": {
        "id": "_I1UeLYDbR_1"
      }
    },
    {
      "cell_type": "code",
      "source": [
        "cnn.add(tf.keras.layers.Dense(units=1, activation='sigmoid'))"
      ],
      "metadata": {
        "id": "Lfh6MEWBbSNn"
      },
      "execution_count": 11,
      "outputs": []
    },
    {
      "cell_type": "markdown",
      "source": [
        "##Training the CNN"
      ],
      "metadata": {
        "id": "dJeBdVKpbV3b"
      }
    },
    {
      "cell_type": "markdown",
      "source": [
        "###Compiling the CNN"
      ],
      "metadata": {
        "id": "Y5VUd5G5bWEs"
      }
    },
    {
      "cell_type": "code",
      "source": [
        "cnn.compile(optimizer = 'adam', loss = 'binary_crossentropy', metrics = ['accuracy'])"
      ],
      "metadata": {
        "id": "4lwGcqFwbWXe"
      },
      "execution_count": 12,
      "outputs": []
    },
    {
      "cell_type": "markdown",
      "source": [
        "###Training and evaluating the dataset on testing set"
      ],
      "metadata": {
        "id": "1ubRuozqbWuz"
      }
    },
    {
      "cell_type": "code",
      "source": [
        "cnn.fit(x = training_set, validation_data = test_set, epochs = 10)\n",
        "#Stopped at 10 epochs"
      ],
      "metadata": {
        "id": "t7LhUDlYbW8E",
        "colab": {
          "base_uri": "https://localhost:8080/"
        },
        "outputId": "95414a0a-deda-49ce-d266-6330b8a2ae22"
      },
      "execution_count": 44,
      "outputs": [
        {
          "output_type": "stream",
          "name": "stdout",
          "text": [
            "Epoch 1/10\n",
            "\u001b[1m164/164\u001b[0m \u001b[32m━━━━━━━━━━━━━━━━━━━━\u001b[0m\u001b[37m\u001b[0m \u001b[1m75s\u001b[0m 444ms/step - accuracy: 0.9531 - loss: 0.1249 - val_accuracy: 0.8638 - val_loss: 0.4040\n",
            "Epoch 2/10\n",
            "\u001b[1m164/164\u001b[0m \u001b[32m━━━━━━━━━━━━━━━━━━━━\u001b[0m\u001b[37m\u001b[0m \u001b[1m77s\u001b[0m 445ms/step - accuracy: 0.9426 - loss: 0.1522 - val_accuracy: 0.9006 - val_loss: 0.2656\n",
            "Epoch 3/10\n",
            "\u001b[1m164/164\u001b[0m \u001b[32m━━━━━━━━━━━━━━━━━━━━\u001b[0m\u001b[37m\u001b[0m \u001b[1m75s\u001b[0m 440ms/step - accuracy: 0.9450 - loss: 0.1419 - val_accuracy: 0.9006 - val_loss: 0.2545\n",
            "Epoch 4/10\n",
            "\u001b[1m164/164\u001b[0m \u001b[32m━━━━━━━━━━━━━━━━━━━━\u001b[0m\u001b[37m\u001b[0m \u001b[1m75s\u001b[0m 444ms/step - accuracy: 0.9497 - loss: 0.1300 - val_accuracy: 0.8990 - val_loss: 0.2628\n",
            "Epoch 5/10\n",
            "\u001b[1m164/164\u001b[0m \u001b[32m━━━━━━━━━━━━━━━━━━━━\u001b[0m\u001b[37m\u001b[0m \u001b[1m75s\u001b[0m 443ms/step - accuracy: 0.9516 - loss: 0.1324 - val_accuracy: 0.9054 - val_loss: 0.2673\n",
            "Epoch 6/10\n",
            "\u001b[1m164/164\u001b[0m \u001b[32m━━━━━━━━━━━━━━━━━━━━\u001b[0m\u001b[37m\u001b[0m \u001b[1m92s\u001b[0m 540ms/step - accuracy: 0.9546 - loss: 0.1297 - val_accuracy: 0.8750 - val_loss: 0.4126\n",
            "Epoch 7/10\n",
            "\u001b[1m164/164\u001b[0m \u001b[32m━━━━━━━━━━━━━━━━━━━━\u001b[0m\u001b[37m\u001b[0m \u001b[1m126s\u001b[0m 444ms/step - accuracy: 0.9561 - loss: 0.1202 - val_accuracy: 0.8349 - val_loss: 0.5189\n",
            "Epoch 8/10\n",
            "\u001b[1m164/164\u001b[0m \u001b[32m━━━━━━━━━━━━━━━━━━━━\u001b[0m\u001b[37m\u001b[0m \u001b[1m99s\u001b[0m 546ms/step - accuracy: 0.9567 - loss: 0.1109 - val_accuracy: 0.9054 - val_loss: 0.2996\n",
            "Epoch 9/10\n",
            "\u001b[1m164/164\u001b[0m \u001b[32m━━━━━━━━━━━━━━━━━━━━\u001b[0m\u001b[37m\u001b[0m \u001b[1m75s\u001b[0m 443ms/step - accuracy: 0.9610 - loss: 0.1051 - val_accuracy: 0.8670 - val_loss: 0.3743\n",
            "Epoch 10/10\n",
            "\u001b[1m164/164\u001b[0m \u001b[32m━━━━━━━━━━━━━━━━━━━━\u001b[0m\u001b[37m\u001b[0m \u001b[1m85s\u001b[0m 456ms/step - accuracy: 0.9571 - loss: 0.1114 - val_accuracy: 0.8798 - val_loss: 0.4054\n"
          ]
        },
        {
          "output_type": "execute_result",
          "data": {
            "text/plain": [
              "<keras.src.callbacks.history.History at 0x780f8d31b940>"
            ]
          },
          "metadata": {},
          "execution_count": 44
        }
      ]
    },
    {
      "cell_type": "markdown",
      "source": [
        "##Predict the result"
      ],
      "metadata": {
        "id": "4hVvV1I0BqEk"
      }
    },
    {
      "cell_type": "code",
      "source": [
        "y_pred = cnn.predict(test_set)"
      ],
      "metadata": {
        "id": "iBDIIrT8BqSJ"
      },
      "execution_count": null,
      "outputs": []
    },
    {
      "cell_type": "markdown",
      "source": [
        "##Confusion-Matrix"
      ],
      "metadata": {
        "id": "jqYYq_r6Bbhr"
      }
    },
    {
      "cell_type": "code",
      "source": [
        "from sklearn.metrics import confusion_matrix\n",
        "cm = confusion_matrix()"
      ],
      "metadata": {
        "id": "HeD6xF7jBbuv"
      },
      "execution_count": null,
      "outputs": []
    },
    {
      "cell_type": "markdown",
      "source": [
        "##Predicting output on a single image"
      ],
      "metadata": {
        "id": "OWCOetO72DVV"
      }
    },
    {
      "cell_type": "code",
      "source": [
        "import numpy as np\n",
        "from tensorflow.keras.preprocessing import image\n",
        "test_image = image.load_img('/content/drive/MyDrive/Colab Notebooks/chest_xray/val/PNEUMONIA/person1946_bacteria_4875.jpeg', target_size = (64, 64))\n",
        "test_image = image.img_to_array(test_image)\n",
        "test_image = np.expand_dims(test_image, axis = 0)\n",
        "result = cnn.predict(test_image)\n",
        "training_set.class_indices\n"
      ],
      "metadata": {
        "colab": {
          "base_uri": "https://localhost:8080/"
        },
        "id": "KSO9WGK82Dmi",
        "outputId": "9568fda4-a435-49a3-cc23-0ed8f83fb3cf"
      },
      "execution_count": 45,
      "outputs": [
        {
          "output_type": "stream",
          "name": "stdout",
          "text": [
            "\u001b[1m1/1\u001b[0m \u001b[32m━━━━━━━━━━━━━━━━━━━━\u001b[0m\u001b[37m\u001b[0m \u001b[1m0s\u001b[0m 29ms/step\n"
          ]
        },
        {
          "output_type": "execute_result",
          "data": {
            "text/plain": [
              "{'NORMAL': 0, 'PNEUMONIA': 1}"
            ]
          },
          "metadata": {},
          "execution_count": 45
        }
      ]
    },
    {
      "cell_type": "code",
      "source": [
        "prediction = None\n",
        "if result[0][0] == 0:\n",
        "  prediction = 'NORMAL'\n",
        "else:\n",
        "  prediction = 'PNEUMONIA'"
      ],
      "metadata": {
        "id": "kRuQHB0p7mfb"
      },
      "execution_count": 46,
      "outputs": []
    },
    {
      "cell_type": "code",
      "source": [
        "print(prediction)"
      ],
      "metadata": {
        "colab": {
          "base_uri": "https://localhost:8080/"
        },
        "id": "N3zbNDY_7z38",
        "outputId": "4213db40-6dec-4e48-d545-1189c50bab0c"
      },
      "execution_count": 47,
      "outputs": [
        {
          "output_type": "stream",
          "name": "stdout",
          "text": [
            "PNEUMONIA\n"
          ]
        }
      ]
    }
  ]
}